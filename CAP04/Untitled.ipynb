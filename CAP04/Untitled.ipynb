{
 "cells": [
  {
   "cell_type": "code",
   "execution_count": 4,
   "id": "92984f8b",
   "metadata": {},
   "outputs": [
    {
     "name": "stdout",
     "output_type": "stream",
     "text": [
      "ola\n",
      "QUEM é a namorada mais linda de todas?roberta\n",
      "Claro que não né, é a Carolinda\n"
     ]
    }
   ],
   "source": [
    "print (\"ola\")\n",
    "\n",
    "namorada = input (\"QUEM é a namorada mais linda de todas?\")\n",
    "if namorada == \" Carolina\":\n",
    "        print (\"Acertou, é a gringa mais braba\")\n",
    "        \n",
    "else:\n",
    "    print (\"Claro que não né, é a Carolinda\")"
   ]
  },
  {
   "cell_type": "code",
   "execution_count": null,
   "id": "030f0f08",
   "metadata": {},
   "outputs": [],
   "source": []
  }
 ],
 "metadata": {
  "kernelspec": {
   "display_name": "Python 3 (ipykernel)",
   "language": "python",
   "name": "python3"
  },
  "language_info": {
   "codemirror_mode": {
    "name": "ipython",
    "version": 3
   },
   "file_extension": ".py",
   "mimetype": "text/x-python",
   "name": "python",
   "nbconvert_exporter": "python",
   "pygments_lexer": "ipython3",
   "version": "3.9.13"
  }
 },
 "nbformat": 4,
 "nbformat_minor": 5
}
