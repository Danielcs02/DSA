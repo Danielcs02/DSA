{
 "cells": [
  {
   "cell_type": "code",
   "execution_count": 3,
   "id": "e993a1e0",
   "metadata": {
    "scrolled": false
   },
   "outputs": [
    {
     "name": "stdout",
     "output_type": "stream",
     "text": [
      "4\n",
      "8\n",
      "12\n",
      "16\n",
      "20\n",
      "24\n",
      "28\n",
      "32\n",
      "36\n",
      "40\n",
      "44\n",
      "48\n",
      "52\n",
      "56\n",
      "60\n",
      "64\n",
      "68\n",
      "72\n",
      "76\n",
      "80\n",
      "84\n",
      "88\n",
      "92\n",
      "96\n",
      "100\n"
     ]
    }
   ],
   "source": [
    "# Criar uma lista com os números de 1 a 100\n",
    "numeros = list(range(1, 101))\n",
    "\n",
    "# Filtrar e imprimir os números pares divisíveis por 4\n",
    "for numero in numeros:\n",
    "    if numero % 2 == 0 and numero % 4 == 0:\n",
    "        print(numero)\n"
   ]
  },
  {
   "cell_type": "code",
   "execution_count": 5,
   "id": "583387c6",
   "metadata": {
    "scrolled": false
   },
   "outputs": [
    {
     "name": "stdout",
     "output_type": "stream",
     "text": [
      "4\n",
      "8\n",
      "12\n",
      "16\n",
      "20\n",
      "24\n",
      "28\n",
      "32\n",
      "36\n",
      "40\n",
      "44\n",
      "48\n",
      "52\n",
      "56\n",
      "60\n",
      "64\n",
      "68\n",
      "72\n",
      "76\n",
      "80\n",
      "84\n",
      "88\n",
      "92\n",
      "96\n",
      "100\n"
     ]
    }
   ],
   "source": [
    "# Criar uma lista com os números pares divisíveis por 4 entre 1 e 100 usando list comprehension\n",
    "numeros_divisiveis_por_4 = {numero for numero in range(1, 101) if numero % 2 == 0 and numero % 4 == 0}\n",
    "\n",
    "# Imprimir os números\n",
    "for numero in numeros_divisiveis_por_4:\n",
    "    print(numero)"
   ]
  },
  {
   "cell_type": "markdown",
   "id": "7e0489d4",
   "metadata": {},
   "source": [
    "# FIM"
   ]
  }
 ],
 "metadata": {
  "kernelspec": {
   "display_name": "Python 3 (ipykernel)",
   "language": "python",
   "name": "python3"
  },
  "language_info": {
   "codemirror_mode": {
    "name": "ipython",
    "version": 3
   },
   "file_extension": ".py",
   "mimetype": "text/x-python",
   "name": "python",
   "nbconvert_exporter": "python",
   "pygments_lexer": "ipython3",
   "version": "3.9.13"
  }
 },
 "nbformat": 4,
 "nbformat_minor": 5
}
