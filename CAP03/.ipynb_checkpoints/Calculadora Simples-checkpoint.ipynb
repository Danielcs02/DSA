{
 "cells": [
  {
   "cell_type": "code",
   "execution_count": null,
   "id": "724b37b4",
   "metadata": {},
   "outputs": [],
   "source": [
    "exiba o bem vindo\n",
    "peça ao usuario para inserir um número\n",
    "armazene o numero em uma variavel\n",
    "peça ao usuario para inserir um operação matematica\n",
    "armazene a oper\n",
    "peça ao usuario um segundo numero\n",
    "armazene o segundo numero em uma variavel\n",
    "calcule os numeros de acordo com a operação matematica escolhida\n",
    "armazene o resultado em um variavel"
   ]
  },
  {
   "cell_type": "code",
   "execution_count": 29,
   "id": "bce13086",
   "metadata": {},
   "outputs": [
    {
     "name": "stdout",
     "output_type": "stream",
     "text": [
      "Bem vindo a calculadora braba do Daniel\n",
      "insira um numero: 12345679\n",
      "insira o segundo numero: 9\n",
      "qual operacao desejada (+, -, * e /)?*\n",
      "o resultado e: 111111111.0\n"
     ]
    }
   ],
   "source": [
    "print(\"Bem vindo a calculadora braba do Daniel\")\n",
    "\n",
    "numero1 = float(input(\"insira um numero: \"))\n",
    "numero2 = float(input(\"insira o segundo numero: \"))\n",
    "operacao = input(\"qual operacao desejada (+, -, * e /)?\")\n",
    "    \n",
    "if operacao == \"+\":\n",
    "    resultado = numero1 + numero2\n",
    "    print(\"o resultado e:\", resultado)\n",
    "elif operacao == \"-\":\n",
    "    resultado = numero1 - numero2\n",
    "    print(\"o resultado e:\", resultado)\n",
    "elif operacao == \"*\":\n",
    "    resultado = numero1 * numero2\n",
    "    print(\"o resultado e:\", resultado)\n",
    "elif operacao == \"/\":\n",
    "    if numero2 != 0:\n",
    "        resultado = numero1 / numero2\n",
    "        print(\"o resultado e:\", resultado)\n",
    "    else:\n",
    "        print(\"Operacao invalida\")\n",
    "else:\n",
    "    print(\"Operacao invalida\")"
   ]
  },
  {
   "cell_type": "code",
   "execution_count": null,
   "id": "052d847e",
   "metadata": {},
   "outputs": [],
   "source": []
  }
 ],
 "metadata": {
  "kernelspec": {
   "display_name": "Python 3 (ipykernel)",
   "language": "python",
   "name": "python3"
  },
  "language_info": {
   "codemirror_mode": {
    "name": "ipython",
    "version": 3
   },
   "file_extension": ".py",
   "mimetype": "text/x-python",
   "name": "python",
   "nbconvert_exporter": "python",
   "pygments_lexer": "ipython3",
   "version": "3.9.13"
  }
 },
 "nbformat": 4,
 "nbformat_minor": 5
}
